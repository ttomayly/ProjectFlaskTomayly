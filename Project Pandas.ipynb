{
 "cells": [
  {
   "cell_type": "markdown",
   "id": "6c13eb03",
   "metadata": {},
   "source": [
    "# Information about further work\n",
    "In this work student performance is going to be predicted by information of their ethnicity, parental level of education, lunch and preparation before the test. Thousand results are given."
   ]
  },
  {
   "cell_type": "code",
   "execution_count": 1,
   "id": "c05a8f5a",
   "metadata": {},
   "outputs": [],
   "source": [
    "import pandas as pd\n",
    "import matplotlib.pyplot as plt\n",
    "import seaborn as sns\n",
    "import plotly.graph_objects as go\n",
    "import warnings\n",
    "warnings.simplefilter('ignore')"
   ]
  },
  {
   "cell_type": "code",
   "execution_count": 2,
   "id": "392ed57f",
   "metadata": {},
   "outputs": [],
   "source": [
    "data = pd.read_csv('StudentsPerformance.csv')"
   ]
  },
  {
   "cell_type": "code",
   "execution_count": 3,
   "id": "86de073f",
   "metadata": {},
   "outputs": [
    {
     "data": {
      "text/html": [
       "<div>\n",
       "<style scoped>\n",
       "    .dataframe tbody tr th:only-of-type {\n",
       "        vertical-align: middle;\n",
       "    }\n",
       "\n",
       "    .dataframe tbody tr th {\n",
       "        vertical-align: top;\n",
       "    }\n",
       "\n",
       "    .dataframe thead th {\n",
       "        text-align: right;\n",
       "    }\n",
       "</style>\n",
       "<table border=\"1\" class=\"dataframe\">\n",
       "  <thead>\n",
       "    <tr style=\"text-align: right;\">\n",
       "      <th></th>\n",
       "      <th>gender</th>\n",
       "      <th>race/ethnicity</th>\n",
       "      <th>parental level of education</th>\n",
       "      <th>lunch</th>\n",
       "      <th>test preparation course</th>\n",
       "      <th>math score</th>\n",
       "      <th>reading score</th>\n",
       "      <th>writing score</th>\n",
       "    </tr>\n",
       "  </thead>\n",
       "  <tbody>\n",
       "    <tr>\n",
       "      <th>0</th>\n",
       "      <td>female</td>\n",
       "      <td>group B</td>\n",
       "      <td>bachelor's degree</td>\n",
       "      <td>standard</td>\n",
       "      <td>none</td>\n",
       "      <td>72</td>\n",
       "      <td>72</td>\n",
       "      <td>74</td>\n",
       "    </tr>\n",
       "    <tr>\n",
       "      <th>1</th>\n",
       "      <td>female</td>\n",
       "      <td>group C</td>\n",
       "      <td>some college</td>\n",
       "      <td>standard</td>\n",
       "      <td>completed</td>\n",
       "      <td>69</td>\n",
       "      <td>90</td>\n",
       "      <td>88</td>\n",
       "    </tr>\n",
       "    <tr>\n",
       "      <th>2</th>\n",
       "      <td>female</td>\n",
       "      <td>group B</td>\n",
       "      <td>master's degree</td>\n",
       "      <td>standard</td>\n",
       "      <td>none</td>\n",
       "      <td>90</td>\n",
       "      <td>95</td>\n",
       "      <td>93</td>\n",
       "    </tr>\n",
       "    <tr>\n",
       "      <th>3</th>\n",
       "      <td>male</td>\n",
       "      <td>group A</td>\n",
       "      <td>associate's degree</td>\n",
       "      <td>free/reduced</td>\n",
       "      <td>none</td>\n",
       "      <td>47</td>\n",
       "      <td>57</td>\n",
       "      <td>44</td>\n",
       "    </tr>\n",
       "    <tr>\n",
       "      <th>4</th>\n",
       "      <td>male</td>\n",
       "      <td>group C</td>\n",
       "      <td>some college</td>\n",
       "      <td>standard</td>\n",
       "      <td>none</td>\n",
       "      <td>76</td>\n",
       "      <td>78</td>\n",
       "      <td>75</td>\n",
       "    </tr>\n",
       "    <tr>\n",
       "      <th>5</th>\n",
       "      <td>female</td>\n",
       "      <td>group B</td>\n",
       "      <td>associate's degree</td>\n",
       "      <td>standard</td>\n",
       "      <td>none</td>\n",
       "      <td>71</td>\n",
       "      <td>83</td>\n",
       "      <td>78</td>\n",
       "    </tr>\n",
       "    <tr>\n",
       "      <th>6</th>\n",
       "      <td>female</td>\n",
       "      <td>group B</td>\n",
       "      <td>some college</td>\n",
       "      <td>standard</td>\n",
       "      <td>completed</td>\n",
       "      <td>88</td>\n",
       "      <td>95</td>\n",
       "      <td>92</td>\n",
       "    </tr>\n",
       "  </tbody>\n",
       "</table>\n",
       "</div>"
      ],
      "text/plain": [
       "   gender race/ethnicity parental level of education         lunch  \\\n",
       "0  female        group B           bachelor's degree      standard   \n",
       "1  female        group C                some college      standard   \n",
       "2  female        group B             master's degree      standard   \n",
       "3    male        group A          associate's degree  free/reduced   \n",
       "4    male        group C                some college      standard   \n",
       "5  female        group B          associate's degree      standard   \n",
       "6  female        group B                some college      standard   \n",
       "\n",
       "  test preparation course  math score  reading score  writing score  \n",
       "0                    none          72             72             74  \n",
       "1               completed          69             90             88  \n",
       "2                    none          90             95             93  \n",
       "3                    none          47             57             44  \n",
       "4                    none          76             78             75  \n",
       "5                    none          71             83             78  \n",
       "6               completed          88             95             92  "
      ]
     },
     "execution_count": 3,
     "metadata": {},
     "output_type": "execute_result"
    }
   ],
   "source": [
    "data.head(7)"
   ]
  },
  {
   "cell_type": "code",
   "execution_count": 4,
   "id": "cd994e19",
   "metadata": {
    "scrolled": true
   },
   "outputs": [
    {
     "data": {
      "text/html": [
       "<div>\n",
       "<style scoped>\n",
       "    .dataframe tbody tr th:only-of-type {\n",
       "        vertical-align: middle;\n",
       "    }\n",
       "\n",
       "    .dataframe tbody tr th {\n",
       "        vertical-align: top;\n",
       "    }\n",
       "\n",
       "    .dataframe thead th {\n",
       "        text-align: right;\n",
       "    }\n",
       "</style>\n",
       "<table border=\"1\" class=\"dataframe\">\n",
       "  <thead>\n",
       "    <tr style=\"text-align: right;\">\n",
       "      <th></th>\n",
       "      <th>gender</th>\n",
       "      <th>ethn</th>\n",
       "      <th>par_edu</th>\n",
       "      <th>lunch</th>\n",
       "      <th>prep</th>\n",
       "      <th>math</th>\n",
       "      <th>reading</th>\n",
       "      <th>writing</th>\n",
       "    </tr>\n",
       "  </thead>\n",
       "  <tbody>\n",
       "    <tr>\n",
       "      <th>0</th>\n",
       "      <td>female</td>\n",
       "      <td>group B</td>\n",
       "      <td>bachelor's degree</td>\n",
       "      <td>standard</td>\n",
       "      <td>none</td>\n",
       "      <td>72</td>\n",
       "      <td>72</td>\n",
       "      <td>74</td>\n",
       "    </tr>\n",
       "    <tr>\n",
       "      <th>1</th>\n",
       "      <td>female</td>\n",
       "      <td>group C</td>\n",
       "      <td>some college</td>\n",
       "      <td>standard</td>\n",
       "      <td>completed</td>\n",
       "      <td>69</td>\n",
       "      <td>90</td>\n",
       "      <td>88</td>\n",
       "    </tr>\n",
       "    <tr>\n",
       "      <th>2</th>\n",
       "      <td>female</td>\n",
       "      <td>group B</td>\n",
       "      <td>master's degree</td>\n",
       "      <td>standard</td>\n",
       "      <td>none</td>\n",
       "      <td>90</td>\n",
       "      <td>95</td>\n",
       "      <td>93</td>\n",
       "    </tr>\n",
       "    <tr>\n",
       "      <th>3</th>\n",
       "      <td>male</td>\n",
       "      <td>group A</td>\n",
       "      <td>associate's degree</td>\n",
       "      <td>free/reduced</td>\n",
       "      <td>none</td>\n",
       "      <td>47</td>\n",
       "      <td>57</td>\n",
       "      <td>44</td>\n",
       "    </tr>\n",
       "    <tr>\n",
       "      <th>4</th>\n",
       "      <td>male</td>\n",
       "      <td>group C</td>\n",
       "      <td>some college</td>\n",
       "      <td>standard</td>\n",
       "      <td>none</td>\n",
       "      <td>76</td>\n",
       "      <td>78</td>\n",
       "      <td>75</td>\n",
       "    </tr>\n",
       "    <tr>\n",
       "      <th>5</th>\n",
       "      <td>female</td>\n",
       "      <td>group B</td>\n",
       "      <td>associate's degree</td>\n",
       "      <td>standard</td>\n",
       "      <td>none</td>\n",
       "      <td>71</td>\n",
       "      <td>83</td>\n",
       "      <td>78</td>\n",
       "    </tr>\n",
       "    <tr>\n",
       "      <th>6</th>\n",
       "      <td>female</td>\n",
       "      <td>group B</td>\n",
       "      <td>some college</td>\n",
       "      <td>standard</td>\n",
       "      <td>completed</td>\n",
       "      <td>88</td>\n",
       "      <td>95</td>\n",
       "      <td>92</td>\n",
       "    </tr>\n",
       "  </tbody>\n",
       "</table>\n",
       "</div>"
      ],
      "text/plain": [
       "   gender     ethn             par_edu         lunch       prep  math  \\\n",
       "0  female  group B   bachelor's degree      standard       none    72   \n",
       "1  female  group C        some college      standard  completed    69   \n",
       "2  female  group B     master's degree      standard       none    90   \n",
       "3    male  group A  associate's degree  free/reduced       none    47   \n",
       "4    male  group C        some college      standard       none    76   \n",
       "5  female  group B  associate's degree      standard       none    71   \n",
       "6  female  group B        some college      standard  completed    88   \n",
       "\n",
       "   reading  writing  \n",
       "0       72       74  \n",
       "1       90       88  \n",
       "2       95       93  \n",
       "3       57       44  \n",
       "4       78       75  \n",
       "5       83       78  \n",
       "6       95       92  "
      ]
     },
     "execution_count": 4,
     "metadata": {},
     "output_type": "execute_result"
    }
   ],
   "source": [
    "data.rename(columns = {'race/ethnicity': 'ethn', 'parental level of education': 'par_edu',\n",
    "                       'test preparation course': 'prep', 'math score': 'math', \n",
    "                       'reading score': 'reading', 'writing score': 'writing'}, inplace = True)\n",
    "data.head(7)"
   ]
  },
  {
   "cell_type": "code",
   "execution_count": 5,
   "id": "e57b1206",
   "metadata": {},
   "outputs": [
    {
     "data": {
      "text/html": [
       "<div>\n",
       "<style scoped>\n",
       "    .dataframe tbody tr th:only-of-type {\n",
       "        vertical-align: middle;\n",
       "    }\n",
       "\n",
       "    .dataframe tbody tr th {\n",
       "        vertical-align: top;\n",
       "    }\n",
       "\n",
       "    .dataframe thead th {\n",
       "        text-align: right;\n",
       "    }\n",
       "</style>\n",
       "<table border=\"1\" class=\"dataframe\">\n",
       "  <thead>\n",
       "    <tr style=\"text-align: right;\">\n",
       "      <th></th>\n",
       "      <th>gender</th>\n",
       "      <th>ethn</th>\n",
       "      <th>par_edu</th>\n",
       "      <th>lunch</th>\n",
       "      <th>prep</th>\n",
       "      <th>math</th>\n",
       "      <th>reading</th>\n",
       "      <th>writing</th>\n",
       "      <th>overall</th>\n",
       "    </tr>\n",
       "  </thead>\n",
       "  <tbody>\n",
       "    <tr>\n",
       "      <th>0</th>\n",
       "      <td>female</td>\n",
       "      <td>group B</td>\n",
       "      <td>bachelor's degree</td>\n",
       "      <td>standard</td>\n",
       "      <td>none</td>\n",
       "      <td>72</td>\n",
       "      <td>72</td>\n",
       "      <td>74</td>\n",
       "      <td>218</td>\n",
       "    </tr>\n",
       "    <tr>\n",
       "      <th>1</th>\n",
       "      <td>female</td>\n",
       "      <td>group C</td>\n",
       "      <td>some college</td>\n",
       "      <td>standard</td>\n",
       "      <td>completed</td>\n",
       "      <td>69</td>\n",
       "      <td>90</td>\n",
       "      <td>88</td>\n",
       "      <td>247</td>\n",
       "    </tr>\n",
       "    <tr>\n",
       "      <th>2</th>\n",
       "      <td>female</td>\n",
       "      <td>group B</td>\n",
       "      <td>master's degree</td>\n",
       "      <td>standard</td>\n",
       "      <td>none</td>\n",
       "      <td>90</td>\n",
       "      <td>95</td>\n",
       "      <td>93</td>\n",
       "      <td>278</td>\n",
       "    </tr>\n",
       "    <tr>\n",
       "      <th>3</th>\n",
       "      <td>male</td>\n",
       "      <td>group A</td>\n",
       "      <td>associate's degree</td>\n",
       "      <td>free/reduced</td>\n",
       "      <td>none</td>\n",
       "      <td>47</td>\n",
       "      <td>57</td>\n",
       "      <td>44</td>\n",
       "      <td>148</td>\n",
       "    </tr>\n",
       "    <tr>\n",
       "      <th>4</th>\n",
       "      <td>male</td>\n",
       "      <td>group C</td>\n",
       "      <td>some college</td>\n",
       "      <td>standard</td>\n",
       "      <td>none</td>\n",
       "      <td>76</td>\n",
       "      <td>78</td>\n",
       "      <td>75</td>\n",
       "      <td>229</td>\n",
       "    </tr>\n",
       "  </tbody>\n",
       "</table>\n",
       "</div>"
      ],
      "text/plain": [
       "   gender     ethn             par_edu         lunch       prep  math  \\\n",
       "0  female  group B   bachelor's degree      standard       none    72   \n",
       "1  female  group C        some college      standard  completed    69   \n",
       "2  female  group B     master's degree      standard       none    90   \n",
       "3    male  group A  associate's degree  free/reduced       none    47   \n",
       "4    male  group C        some college      standard       none    76   \n",
       "\n",
       "   reading  writing  overall  \n",
       "0       72       74      218  \n",
       "1       90       88      247  \n",
       "2       95       93      278  \n",
       "3       57       44      148  \n",
       "4       78       75      229  "
      ]
     },
     "execution_count": 5,
     "metadata": {},
     "output_type": "execute_result"
    }
   ],
   "source": [
    "data['overall'] = data.math + data.writing + data.reading  # new column for overall scores out of 300\n",
    "data.head()"
   ]
  },
  {
   "cell_type": "markdown",
   "id": "f38559de",
   "metadata": {},
   "source": [
    "## Hypothesis\n",
    "This work believes:\n",
    "1. parental education would affect performance of children, and examinees with parents with master's degree would have better results\n",
    "2. people who had had their lunches eaten and preparation done before test would perform better\n",
    "3. males would be better in math, and reading results would be somewhat equal for both women and men, also, results of writing would be higher for women \n",
    "4. overall, reading would be the best result for all participants, and math is the worst"
   ]
  },
  {
   "cell_type": "markdown",
   "id": "02ff5635",
   "metadata": {},
   "source": [
    "## General transcribing\n",
    "In this block it is checked what mean, median, standard deviation, maximum and minimum scores are in each section of the exam (+overall scores)."
   ]
  },
  {
   "cell_type": "code",
   "execution_count": 12,
   "id": "75067604",
   "metadata": {},
   "outputs": [
    {
     "name": "stdout",
     "output_type": "stream",
     "text": [
      "Mean of math score: 66.089\n",
      "Mean of reading score: 69.169\n",
      "Mean of writing score: 68.054\n",
      "Mean of overall score: 203.312\n"
     ]
    }
   ],
   "source": [
    "print('Mean of math score:', data.math.mean())  # calculating mean scores for all 3 tests + overall\n",
    "print('Mean of reading score:', data.reading.mean()) \n",
    "print('Mean of writing score:', data.writing.mean())\n",
    "print('Mean of overall score:', data.overall.mean())"
   ]
  },
  {
   "cell_type": "code",
   "execution_count": 13,
   "id": "00fd8bbb",
   "metadata": {},
   "outputs": [
    {
     "name": "stdout",
     "output_type": "stream",
     "text": [
      "Median of math score: 66.0\n",
      "Median of reading score: 70.0\n",
      "Median of writing score: 69.0\n",
      "Median of overall score: 205.0\n"
     ]
    }
   ],
   "source": [
    "print('Median of math score:', data.math.median())  # calculating median scores for all 3 tests + overall\n",
    "print('Median of reading score:', data.reading.median()) \n",
    "print('Median of writing score:', data.writing.median())\n",
    "print('Median of overall score:', data.overall.median())"
   ]
  },
  {
   "cell_type": "code",
   "execution_count": 14,
   "id": "27bdcef4",
   "metadata": {},
   "outputs": [
    {
     "name": "stdout",
     "output_type": "stream",
     "text": [
      "Standart deviation of math score: 15.163080096009468\n",
      "Standart deviation of reading score: 14.60019193725222\n",
      "Standart deviation of writing score: 15.195657010869642\n",
      "Standart deviation of overall score: 42.77197795400746\n"
     ]
    }
   ],
   "source": [
    "print('Standart deviation of math score:', data.math.std())  # calculating standard deviation for all scores\n",
    "print('Standart deviation of reading score:', data.reading.std()) \n",
    "print('Standart deviation of writing score:', data.writing.std())\n",
    "print('Standart deviation of overall score:', data.overall.std())"
   ]
  },
  {
   "cell_type": "code",
   "execution_count": 15,
   "id": "8ab468cc",
   "metadata": {},
   "outputs": [
    {
     "data": {
      "text/html": [
       "<div>\n",
       "<style scoped>\n",
       "    .dataframe tbody tr th:only-of-type {\n",
       "        vertical-align: middle;\n",
       "    }\n",
       "\n",
       "    .dataframe tbody tr th {\n",
       "        vertical-align: top;\n",
       "    }\n",
       "\n",
       "    .dataframe thead th {\n",
       "        text-align: right;\n",
       "    }\n",
       "</style>\n",
       "<table border=\"1\" class=\"dataframe\">\n",
       "  <thead>\n",
       "    <tr style=\"text-align: right;\">\n",
       "      <th></th>\n",
       "      <th>math</th>\n",
       "      <th>reading</th>\n",
       "      <th>writing</th>\n",
       "      <th>overall</th>\n",
       "    </tr>\n",
       "  </thead>\n",
       "  <tbody>\n",
       "    <tr>\n",
       "      <th>mean</th>\n",
       "      <td>66.09</td>\n",
       "      <td>69.17</td>\n",
       "      <td>68.05</td>\n",
       "      <td>203.31</td>\n",
       "    </tr>\n",
       "    <tr>\n",
       "      <th>median</th>\n",
       "      <td>66.00</td>\n",
       "      <td>70.00</td>\n",
       "      <td>69.00</td>\n",
       "      <td>205.00</td>\n",
       "    </tr>\n",
       "    <tr>\n",
       "      <th>std</th>\n",
       "      <td>15.16</td>\n",
       "      <td>14.60</td>\n",
       "      <td>15.20</td>\n",
       "      <td>42.77</td>\n",
       "    </tr>\n",
       "    <tr>\n",
       "      <th>min</th>\n",
       "      <td>0.00</td>\n",
       "      <td>17.00</td>\n",
       "      <td>10.00</td>\n",
       "      <td>27.00</td>\n",
       "    </tr>\n",
       "    <tr>\n",
       "      <th>max</th>\n",
       "      <td>100.00</td>\n",
       "      <td>100.00</td>\n",
       "      <td>100.00</td>\n",
       "      <td>300.00</td>\n",
       "    </tr>\n",
       "  </tbody>\n",
       "</table>\n",
       "</div>"
      ],
      "text/plain": [
       "          math  reading  writing  overall\n",
       "mean     66.09    69.17    68.05   203.31\n",
       "median   66.00    70.00    69.00   205.00\n",
       "std      15.16    14.60    15.20    42.77\n",
       "min       0.00    17.00    10.00    27.00\n",
       "max     100.00   100.00   100.00   300.00"
      ]
     },
     "execution_count": 15,
     "metadata": {},
     "output_type": "execute_result"
    }
   ],
   "source": [
    "table_1 = data[['math', 'reading', 'writing', 'overall']].agg(['mean', 'median', 'std', 'min', 'max'])\n",
    "table_1.round(2)"
   ]
  },
  {
   "cell_type": "code",
   "execution_count": 16,
   "id": "3059e3e6",
   "metadata": {},
   "outputs": [
    {
     "name": "stdout",
     "output_type": "stream",
     "text": [
      "Average score for all sections: 67.77\n"
     ]
    }
   ],
   "source": [
    "average_scores = table_1.drop('overall', 1).loc['mean'].mean()\n",
    "print('Average score for all sections:', round(average_scores, 2))  # what is average score for all sections"
   ]
  },
  {
   "cell_type": "code",
   "execution_count": 17,
   "id": "0ffd701f",
   "metadata": {},
   "outputs": [
    {
     "data": {
      "text/html": [
       "<div>\n",
       "<style scoped>\n",
       "    .dataframe tbody tr th:only-of-type {\n",
       "        vertical-align: middle;\n",
       "    }\n",
       "\n",
       "    .dataframe tbody tr th {\n",
       "        vertical-align: top;\n",
       "    }\n",
       "\n",
       "    .dataframe thead th {\n",
       "        text-align: right;\n",
       "    }\n",
       "</style>\n",
       "<table border=\"1\" class=\"dataframe\">\n",
       "  <thead>\n",
       "    <tr style=\"text-align: right;\">\n",
       "      <th></th>\n",
       "      <th>gender</th>\n",
       "      <th>ethn</th>\n",
       "      <th>par_edu</th>\n",
       "      <th>lunch</th>\n",
       "      <th>prep</th>\n",
       "      <th>math</th>\n",
       "      <th>reading</th>\n",
       "      <th>writing</th>\n",
       "      <th>overall</th>\n",
       "    </tr>\n",
       "  </thead>\n",
       "  <tbody>\n",
       "    <tr>\n",
       "      <th>458</th>\n",
       "      <td>female</td>\n",
       "      <td>group E</td>\n",
       "      <td>bachelor's degree</td>\n",
       "      <td>standard</td>\n",
       "      <td>none</td>\n",
       "      <td>100</td>\n",
       "      <td>100</td>\n",
       "      <td>100</td>\n",
       "      <td>300</td>\n",
       "    </tr>\n",
       "    <tr>\n",
       "      <th>916</th>\n",
       "      <td>male</td>\n",
       "      <td>group E</td>\n",
       "      <td>bachelor's degree</td>\n",
       "      <td>standard</td>\n",
       "      <td>completed</td>\n",
       "      <td>100</td>\n",
       "      <td>100</td>\n",
       "      <td>100</td>\n",
       "      <td>300</td>\n",
       "    </tr>\n",
       "    <tr>\n",
       "      <th>962</th>\n",
       "      <td>female</td>\n",
       "      <td>group E</td>\n",
       "      <td>associate's degree</td>\n",
       "      <td>standard</td>\n",
       "      <td>none</td>\n",
       "      <td>100</td>\n",
       "      <td>100</td>\n",
       "      <td>100</td>\n",
       "      <td>300</td>\n",
       "    </tr>\n",
       "  </tbody>\n",
       "</table>\n",
       "</div>"
      ],
      "text/plain": [
       "     gender     ethn             par_edu     lunch       prep  math  reading  \\\n",
       "458  female  group E   bachelor's degree  standard       none   100      100   \n",
       "916    male  group E   bachelor's degree  standard  completed   100      100   \n",
       "962  female  group E  associate's degree  standard       none   100      100   \n",
       "\n",
       "     writing  overall  \n",
       "458      100      300  \n",
       "916      100      300  \n",
       "962      100      300  "
      ]
     },
     "execution_count": 17,
     "metadata": {},
     "output_type": "execute_result"
    }
   ],
   "source": [
    "data.loc[data['overall'] == 300]  # how to get 300"
   ]
  },
  {
   "cell_type": "markdown",
   "id": "e2863949",
   "metadata": {},
   "source": [
    "So, to get 300 one should preferably:\n",
    "\n",
    "1. be from group E\n",
    "2. have parents with bachelor's or associate's degree\n",
    "3. have standard lunch\n",
    "4. it's okay not to have preparation"
   ]
  },
  {
   "cell_type": "markdown",
   "id": "5c45cb47",
   "metadata": {},
   "source": [
    "## Simple visualization\n",
    "In this block there is simple visualization of given data."
   ]
  },
  {
   "cell_type": "code",
   "execution_count": 18,
   "id": "e2c767ca",
   "metadata": {},
   "outputs": [],
   "source": [
    "plt.style.use('seaborn')"
   ]
  },
  {
   "cell_type": "code",
   "execution_count": 19,
   "id": "511586c6",
   "metadata": {},
   "outputs": [
    {
     "data": {
      "text/plain": [
       "Text(0, 0.5, 'lunch before test')"
      ]
     },
     "execution_count": 19,
     "metadata": {},
     "output_type": "execute_result"
    },
    {
     "data": {
      "image/png": "[encoded data removed]",
      "text/plain": [
       "<Figure size 576x396 with 1 Axes>"
      ]
     },
     "metadata": {},
     "output_type": "display_data"
    }
   ],
   "source": [
    "data.lunch.value_counts().plot(kind = 'pie')\n",
    "plt.ylabel('lunch before test')"
   ]
  },
  {
   "cell_type": "code",
   "execution_count": 20,
   "id": "8cce4d78",
   "metadata": {},
   "outputs": [
    {
     "data": {
      "text/plain": [
       "Text(0, 0.5, 'test preparation course')"
      ]
     },
     "execution_count": 20,
     "metadata": {},
     "output_type": "execute_result"
    },
    {
     "data": {
      "image/png": "[encoded data removed]",
      "text/plain": [
       "<Figure size 576x396 with 1 Axes>"
      ]
     },
     "metadata": {},
     "output_type": "display_data"
    }
   ],
   "source": [
    "data.prep.value_counts().plot(kind = 'pie')\n",
    "plt.ylabel('test preparation course')"
   ]
  },
  {
   "cell_type": "markdown",
   "id": "7f679101",
   "metadata": {},
   "source": [
    "There were more people who preferred standard lunch to free/reduced one. Many participants abandoned the idea of preparation before the test."
   ]
  },
  {
   "cell_type": "code",
   "execution_count": 21,
   "id": "206b211b",
   "metadata": {},
   "outputs": [
    {
     "data": {
      "text/plain": [
       "<BarContainer object of 6 artists>"
      ]
     },
     "execution_count": 21,
     "metadata": {},
     "output_type": "execute_result"
    },
    {
     "data": {
      "image/png": "[encoded data removed]",
      "text/plain": [
       "<Figure size 720x720 with 1 Axes>"
      ]
     },
     "metadata": {},
     "output_type": "display_data"
    }
   ],
   "source": [
    "plt.figure(figsize=(10,10))\n",
    "plt.bar(data.par_edu.value_counts().index,data.par_edu.value_counts().values, width = 0.5)"
   ]
  },
  {
   "cell_type": "markdown",
   "id": "0f54d6bd",
   "metadata": {},
   "source": [
    "Taking a closer look at this bar chart, it can be observed most parents of partakers had some college level of education, less of them had chosen to pursue master's degree. "
   ]
  },
  {
   "cell_type": "code",
   "execution_count": 22,
   "id": "7cda727e",
   "metadata": {},
   "outputs": [
    {
     "data": {
      "text/plain": [
       "[Text(0.5, 0, 'overall score'), Text(0, 0.5, 'number of people')]"
      ]
     },
     "execution_count": 22,
     "metadata": {},
     "output_type": "execute_result"
    },
    {
     "data": {
      "image/png": "[encoded data removed]",
      "text/plain": [
       "<Figure size 720x504 with 1 Axes>"
      ]
     },
     "metadata": {},
     "output_type": "display_data"
    }
   ],
   "source": [
    "plt.figure(figsize=(10,7))\n",
    "ax = sns.histplot(data[['math', 'reading', 'writing']])\n",
    "ax.set(xlabel = 'overall score', ylabel = 'number of people') "
   ]
  },
  {
   "cell_type": "code",
   "execution_count": 23,
   "id": "b3f5ec5f",
   "metadata": {},
   "outputs": [
    {
     "data": {
      "text/plain": [
       "<AxesSubplot:xlabel='0'>"
      ]
     },
     "execution_count": 23,
     "metadata": {},
     "output_type": "execute_result"
    },
    {
     "data": {
      "image/png": "[encoded data removed]",
      "text/plain": [
       "<Figure size 576x396 with 1 Axes>"
      ]
     },
     "metadata": {},
     "output_type": "display_data"
    }
   ],
   "source": [
    "table = data[['reading', 'writing', 'math']]\n",
    "table = pd.concat([table.reading, table.writing, table.math], axis = 0)\n",
    "table.index = range(table.shape[0])\n",
    "\n",
    "table = pd.DataFrame(table)\n",
    "table[''] = ''\n",
    "\n",
    "table.loc[:table.shape[0]/3, ''] = 'reading'\n",
    "table.loc[table.shape[0]/3:2*table.shape[0]/3, ''] = 'writing'\n",
    "table.loc[2*table.shape[0]/3:, ''] = 'math'\n",
    "\n",
    "sns.boxplot(data = table, x = 0, y = '')"
   ]
  },
  {
   "cell_type": "markdown",
   "id": "db028b44",
   "metadata": {},
   "source": [
    "Reading was quite more comprehensible among respondents and math exam was the most complicated one."
   ]
  },
  {
   "cell_type": "code",
   "execution_count": 24,
   "id": "af945fbd",
   "metadata": {},
   "outputs": [
    {
     "data": {
      "text/plain": [
       "[Text(0.5, 0, 'overall score'), Text(0, 0.5, 'number of people')]"
      ]
     },
     "execution_count": 24,
     "metadata": {},
     "output_type": "execute_result"
    },
    {
     "data": {
      "image/png": "[encoded data removed]",
      "text/plain": [
       "<Figure size 720x504 with 1 Axes>"
      ]
     },
     "metadata": {},
     "output_type": "display_data"
    }
   ],
   "source": [
    "plt.figure(figsize=(10,7))\n",
    "ax = sns.histplot(data['overall'])\n",
    "ax.set(xlabel = 'overall score', ylabel = 'number of people') "
   ]
  },
  {
   "cell_type": "markdown",
   "id": "a31b606f",
   "metadata": {},
   "source": [
    "The most common scores were approximately from 180 to 240."
   ]
  },
  {
   "cell_type": "markdown",
   "id": "4a003081",
   "metadata": {},
   "source": [
    "## Visualization via comparison\n",
    "In this block it is observed how different attributes affect student's performance"
   ]
  },
  {
   "cell_type": "code",
   "execution_count": 25,
   "id": "de6098d3",
   "metadata": {},
   "outputs": [
    {
     "data": {
      "image/png": "[encoded data removed]",
      "text/plain": [
       "<Figure size 576x396 with 3 Axes>"
      ]
     },
     "metadata": {},
     "output_type": "display_data"
    }
   ],
   "source": [
    "fig, ax = plt.subplots()\n",
    "fig.subplots_adjust(hspace = 0.5, wspace = 0.5, left = 0.1, right = 1.7)\n",
    "mat_1 = ['math', 'reading', 'writing']\n",
    "\n",
    "for i in range(3):\n",
    "    plt.subplot(1,3,i+1)\n",
    "    sns.boxplot(data.gender, data[mat_1[i]])"
   ]
  },
  {
   "cell_type": "markdown",
   "id": "59cb79da",
   "metadata": {},
   "source": [
    "From the box plot it is evident that although men performed better in math, female examinees were superior in writing and reading skills."
   ]
  },
  {
   "cell_type": "code",
   "execution_count": 26,
   "id": "9c425ccf",
   "metadata": {},
   "outputs": [
    {
     "data": {
      "text/plain": [
       "[Text(0.5, 0, 'race/ethnicity'), Text(0, 0.5, 'overall score')]"
      ]
     },
     "execution_count": 26,
     "metadata": {},
     "output_type": "execute_result"
    },
    {
     "data": {
      "image/png": "[encoded data removed]",
      "text/plain": [
       "<Figure size 720x360 with 1 Axes>"
      ]
     },
     "metadata": {},
     "output_type": "display_data"
    }
   ],
   "source": [
    "plt.figure(figsize=(10,5))\n",
    "ax = sns.barplot(data.ethn, data.overall)\n",
    "ax.set(xlabel = 'race/ethnicity', ylabel = 'overall score') "
   ]
  },
  {
   "cell_type": "markdown",
   "id": "d4b04e9d",
   "metadata": {},
   "source": [
    "Generally, people of group E were better than any other group (more than 200 overall score) and the worst performance is attributed to ethnic group A."
   ]
  },
  {
   "cell_type": "code",
   "execution_count": 27,
   "id": "61bafb50",
   "metadata": {},
   "outputs": [
    {
     "data": {
      "text/plain": [
       "[Text(0.5, 0, 'parental level of education'), Text(0, 0.5, 'overall score')]"
      ]
     },
     "execution_count": 27,
     "metadata": {},
     "output_type": "execute_result"
    },
    {
     "data": {
      "image/png": "[encoded data removed]",
      "text/plain": [
       "<Figure size 864x360 with 1 Axes>"
      ]
     },
     "metadata": {},
     "output_type": "display_data"
    }
   ],
   "source": [
    "plt.figure(figsize=(12,5))\n",
    "ax = sns.barplot(data.par_edu, data.overall)\n",
    "ax.set(xlabel = 'parental level of education', ylabel = 'overall score') "
   ]
  },
  {
   "cell_type": "markdown",
   "id": "3837c92d",
   "metadata": {},
   "source": [
    "It was expected that students with parents with master's degrees were more likely to finish the test with better results in comparison with those whose parents hadn't graduated with it. The poorest results (average less than 200) were obtained by the group whose parents just left high school without tertiary education."
   ]
  },
  {
   "cell_type": "code",
   "execution_count": 28,
   "id": "caa57ea3",
   "metadata": {},
   "outputs": [
    {
     "data": {
      "image/png": "[encoded data removed]",
      "text/plain": [
       "<Figure size 576x396 with 2 Axes>"
      ]
     },
     "metadata": {},
     "output_type": "display_data"
    }
   ],
   "source": [
    "fig, ax = plt.subplots()\n",
    "fig.subplots_adjust(hspace = 0.5, wspace = 0.4, left = 0.2, right = 1.7)\n",
    "mat_2 = ['lunch', 'prep']\n",
    "mat_3 = ['lunch before test', 'preparation before test']\n",
    "\n",
    "for i in range(2):\n",
    "    ax = plt.subplot(1,2,i+1)\n",
    "    sns.boxplot(data[mat_2[i]], data.overall)\n",
    "    ax.set(xlabel = mat_3[i], ylabel = 'overall score') "
   ]
  },
  {
   "cell_type": "markdown",
   "id": "7076015a",
   "metadata": {},
   "source": [
    "Clearly, people who had had lunch before taking the exam, they performed better than ones who hadn't eaten or ate reduced lunch. Moreover, it is transparent that without proper preparation results would be inferior to those people who had have it."
   ]
  },
  {
   "cell_type": "markdown",
   "id": "19befa55",
   "metadata": {},
   "source": [
    "## Conclusion\n",
    "After deciphering given table this work can conclude that:\n",
    "1. parental education would affect performance of children, and examinees with parents with master's degree would have better results (as it was predicted)\n",
    "2. people who had had their lunches eaten and preparation done before test would perform better (as it was predicted)\n",
    "3. males would be better in math (as it was predicted), and reading results would be somewhat equal for both women and men (as it was not predicted), also, results of writing would be higher for women (as it was predicted)\n",
    "4. overall, reading would be the best result for all participants, and math is the worst (as it was predicted) "
   ]
  }
 ],
 "metadata": {
  "kernelspec": {
   "display_name": "Python 3",
   "language": "python",
   "name": "python3"
  },
  "language_info": {
   "codemirror_mode": {
    "name": "ipython",
    "version": 3
   },
   "file_extension": ".py",
   "mimetype": "text/x-python",
   "name": "python",
   "nbconvert_exporter": "python",
   "pygments_lexer": "ipython3",
   "version": "3.8.8"
  }
 },
 "nbformat": 4,
 "nbformat_minor": 5
}
